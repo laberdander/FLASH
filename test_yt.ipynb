{
 "cells": [
  {
   "cell_type": "code",
   "execution_count": 12,
   "metadata": {},
   "outputs": [],
   "source": [
    "import yt\n",
    "import numpy as np\n",
    "from matplotlib import pyplot as plt\n",
    "yt.set_log_level('critical')"
   ]
  },
  {
   "cell_type": "code",
   "execution_count": 7,
   "metadata": {},
   "outputs": [],
   "source": [
    "path_shot33 = 'D:/Simulation/FLASH/2D/PHELIX2023/shot33/'\n",
    "name = 'lasslab_hdf5_plt_cnt_????'"
   ]
  },
  {
   "cell_type": "code",
   "execution_count": 4,
   "metadata": {},
   "outputs": [],
   "source": [
    "def find_nearest(array, value):\n",
    "    \"\"\"\n",
    "    Function finds array element closest to the given value and returns the index of this element.\n",
    "    Used, to find the plot file to a given time.\n",
    "\n",
    "    :param array: np.array; array, that is compared with value\n",
    "    :param value: float; function finds element in array, that is closest to value\n",
    "    :return: int; index of element in array that is closest to value\n",
    "    \"\"\"\n",
    "    idx = (np.abs(array - value)).argmin()\n",
    "    return idx"
   ]
  },
  {
   "cell_type": "code",
   "execution_count": 10,
   "metadata": {},
   "outputs": [],
   "source": [
    "def get_dataset(path, t):\n",
    "    ts = yt.load(path)\n",
    "    times = []\n",
    "    for ds in ts:\n",
    "        times.append(ds.current_time.in_units('ns'))\n",
    "    ts_ind = find_nearest(np.array(times), t)\n",
    "    return ts[ts_ind]"
   ]
  },
  {
   "cell_type": "code",
   "execution_count": 15,
   "metadata": {},
   "outputs": [
    {
     "data": {
      "text/plain": [
       "[('flash', 'cell_volume'),\n",
       " ('flash', 'cham'),\n",
       " ('flash', 'dens'),\n",
       " ('flash', 'depo'),\n",
       " ('flash', 'dr'),\n",
       " ('flash', 'dtheta'),\n",
       " ('flash', 'dz'),\n",
       " ('flash', 'lase'),\n",
       " ('flash', 'path_element_r'),\n",
       " ('flash', 'path_element_theta'),\n",
       " ('flash', 'path_element_z'),\n",
       " ('flash', 'pres'),\n",
       " ('flash', 'r'),\n",
       " ('flash', 'sumy'),\n",
       " ('flash', 'targ'),\n",
       " ('flash', 'tele'),\n",
       " ('flash', 'theta'),\n",
       " ('flash', 'tion'),\n",
       " ('flash', 'trad'),\n",
       " ('flash', 'volume'),\n",
       " ('flash', 'ye'),\n",
       " ('flash', 'z'),\n",
       " ('gas', 'El_number_density'),\n",
       " ('gas', 'averaged_density'),\n",
       " ('gas', 'cell_mass'),\n",
       " ('gas', 'cell_volume'),\n",
       " ('gas', 'density'),\n",
       " ('gas', 'density_gradient_magnitude'),\n",
       " ('gas', 'density_gradient_r'),\n",
       " ('gas', 'density_gradient_theta'),\n",
       " ('gas', 'density_gradient_z'),\n",
       " ('gas', 'dr'),\n",
       " ('gas', 'dtheta'),\n",
       " ('gas', 'dynamical_time'),\n",
       " ('gas', 'dz'),\n",
       " ('gas', 'ion_number_density'),\n",
       " ('gas', 'mass'),\n",
       " ('gas', 'mean_molecular_weight'),\n",
       " ('gas', 'number_density'),\n",
       " ('gas', 'optical_depth'),\n",
       " ('gas', 'path_element_r'),\n",
       " ('gas', 'path_element_theta'),\n",
       " ('gas', 'path_element_z'),\n",
       " ('gas', 'pressure'),\n",
       " ('gas', 'pressure_gradient_magnitude'),\n",
       " ('gas', 'pressure_gradient_r'),\n",
       " ('gas', 'pressure_gradient_theta'),\n",
       " ('gas', 'pressure_gradient_z'),\n",
       " ('gas', 'r'),\n",
       " ('gas', 'sound_speed'),\n",
       " ('gas', 'theta'),\n",
       " ('gas', 'volume'),\n",
       " ('gas', 'z'),\n",
       " ('index', 'cell_volume'),\n",
       " ('index', 'dr'),\n",
       " ('index', 'dtheta'),\n",
       " ('index', 'dz'),\n",
       " ('index', 'grid_indices'),\n",
       " ('index', 'grid_level'),\n",
       " ('index', 'ones'),\n",
       " ('index', 'path_element_r'),\n",
       " ('index', 'path_element_theta'),\n",
       " ('index', 'path_element_z'),\n",
       " ('index', 'r'),\n",
       " ('index', 'theta'),\n",
       " ('index', 'virial_radius_fraction'),\n",
       " ('index', 'volume'),\n",
       " ('index', 'z'),\n",
       " ('index', 'zeros')]"
      ]
     },
     "execution_count": 15,
     "metadata": {},
     "output_type": "execute_result"
    }
   ],
   "source": [
    "ds_1 = get_dataset(path_shot33+name, 1)\n",
    "ds_1.derived_field_list"
   ]
  },
  {
   "cell_type": "code",
   "execution_count": 19,
   "metadata": {},
   "outputs": [
    {
     "data": {
      "text/plain": [
       "1.6666666666666667"
      ]
     },
     "execution_count": 19,
     "metadata": {},
     "output_type": "execute_result"
    }
   ],
   "source": [
    "ds_1.gamma"
   ]
  },
  {
   "cell_type": "code",
   "execution_count": 18,
   "metadata": {},
   "outputs": [
    {
     "name": "stdout",
     "output_type": "stream",
     "text": [
      "    def _sound_speed(field, data):\n",
      "        tr = data.ds.gamma * data[ftype, \"pressure\"] / data[ftype, \"density\"]\n",
      "        return np.sqrt(tr)\n",
      "\n"
     ]
    }
   ],
   "source": [
    "print(ds_1.field_info['gas', 'sound_speed'].get_source())"
   ]
  },
  {
   "cell_type": "code",
   "execution_count": 29,
   "metadata": {},
   "outputs": [
    {
     "data": {
      "text/plain": [
       "<matplotlib.collections.PathCollection at 0x18f2b2bf010>"
      ]
     },
     "execution_count": 29,
     "metadata": {},
     "output_type": "execute_result"
    },
    {
     "data": {
      "image/png": "[encoded data removed]",
      "text/plain": [
       "<Figure size 640x480 with 1 Axes>"
      ]
     },
     "metadata": {},
     "output_type": "display_data"
    },
    {
     "ename": "",
     "evalue": "",
     "output_type": "error",
     "traceback": [
      "\u001b[1;31mThe Kernel crashed while executing code in the the current cell or a previous cell. Please review the code in the cell(s) to identify a possible cause of the failure. Click <a href='https://aka.ms/vscodeJupyterKernelCrash'>here</a> for more info. View Jupyter <a href='command:jupyter.viewOutput'>log</a> for further details."
     ]
    }
   ],
   "source": [
    "plt.scatter(ds_1.index.grid_left_edge[:,:1], ds_1.index.grid_right_edge[:,:1])"
   ]
  },
  {
   "cell_type": "code",
   "execution_count": null,
   "metadata": {},
   "outputs": [],
   "source": []
  }
 ],
 "metadata": {
  "kernelspec": {
   "display_name": "Python 3",
   "language": "python",
   "name": "python3"
  },
  "language_info": {
   "codemirror_mode": {
    "name": "ipython",
    "version": 3
   },
   "file_extension": ".py",
   "mimetype": "text/x-python",
   "name": "python",
   "nbconvert_exporter": "python",
   "pygments_lexer": "ipython3",
   "version": "3.11.4"
  },
  "orig_nbformat": 4
 },
 "nbformat": 4,
 "nbformat_minor": 2
}
